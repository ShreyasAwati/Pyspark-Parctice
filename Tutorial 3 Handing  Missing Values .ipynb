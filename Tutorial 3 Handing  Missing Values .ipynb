{
 "cells": [
  {
   "cell_type": "markdown",
   "id": "da57d46f",
   "metadata": {},
   "source": [
    "### Pyspark Handling  Missing Values \n",
    "    -Droping Columns\n",
    "    -Droping Rows \n",
    "    -Various Parameter in Droping Functionality \n",
    "    -Handling Missing Values by mean madin mode"
   ]
  },
  {
   "cell_type": "code",
   "execution_count": 1,
   "id": "6ddba9e0",
   "metadata": {},
   "outputs": [],
   "source": [
    "from pyspark.sql import SparkSession\n",
    "spark = SparkSession.builder.appName('Practice').getOrCreate()"
   ]
  },
  {
   "cell_type": "code",
   "execution_count": 5,
   "id": "1b450190",
   "metadata": {},
   "outputs": [],
   "source": [
    "df_pyspark=spark.read.csv('TEST2.csv',inferSchema=True,header=True)"
   ]
  },
  {
   "cell_type": "code",
   "execution_count": 7,
   "id": "67548596",
   "metadata": {},
   "outputs": [
    {
     "name": "stdout",
     "output_type": "stream",
     "text": [
      "+----+--------+------+\n",
      "| Age|exprince|Salary|\n",
      "+----+--------+------+\n",
      "|  31|      10| 30000|\n",
      "|  30|       8| 20000|\n",
      "|  29|       4| 25000|\n",
      "|  24|       4| 20000|\n",
      "|null|    null| 40000|\n",
      "|  34|      10|  null|\n",
      "|  36|    null|  null|\n",
      "|  24|       3| 20000|\n",
      "|  21|       1| 15000|\n",
      "+----+--------+------+\n",
      "\n"
     ]
    }
   ],
   "source": [
    "##Droping Column \n",
    "df_pyspark.drop('Name').show()"
   ]
  },
  {
   "cell_type": "code",
   "execution_count": 8,
   "id": "bde4a8e8",
   "metadata": {},
   "outputs": [
    {
     "name": "stdout",
     "output_type": "stream",
     "text": [
      "+--------+---+--------+------+\n",
      "|    Name|Age|exprince|Salary|\n",
      "+--------+---+--------+------+\n",
      "|Shreyas | 31|      10| 30000|\n",
      "|   Aishu| 30|       8| 20000|\n",
      "| Ramesh | 29|       4| 25000|\n",
      "|    Tuka| 24|       4| 20000|\n",
      "|    Paul| 24|       3| 20000|\n",
      "|  Harsha| 21|       1| 15000|\n",
      "+--------+---+--------+------+\n",
      "\n"
     ]
    }
   ],
   "source": [
    "##Droping rows based on Null values \n",
    "df_pyspark.na.drop().show()"
   ]
  },
  {
   "cell_type": "code",
   "execution_count": 11,
   "id": "5f9736b1",
   "metadata": {},
   "outputs": [
    {
     "name": "stdout",
     "output_type": "stream",
     "text": [
      "+--------+---+--------+------+\n",
      "|    Name|Age|exprince|Salary|\n",
      "+--------+---+--------+------+\n",
      "|Shreyas | 31|      10| 30000|\n",
      "|   Aishu| 30|       8| 20000|\n",
      "| Ramesh | 29|       4| 25000|\n",
      "|    Tuka| 24|       4| 20000|\n",
      "|    Paul| 24|       3| 20000|\n",
      "|  Harsha| 21|       1| 15000|\n",
      "+--------+---+--------+------+\n",
      "\n"
     ]
    }
   ],
   "source": [
    "##any will delete all the null and all will delete if all are null \n",
    "df_pyspark.na.drop(how = 'any').show()"
   ]
  },
  {
   "cell_type": "code",
   "execution_count": 16,
   "id": "865fbb9d",
   "metadata": {},
   "outputs": [
    {
     "name": "stdout",
     "output_type": "stream",
     "text": [
      "+--------+----+--------+------+\n",
      "|    Name| Age|exprince|Salary|\n",
      "+--------+----+--------+------+\n",
      "|Shreyas |  31|      10| 30000|\n",
      "|   Aishu|  30|       8| 20000|\n",
      "| Ramesh |  29|       4| 25000|\n",
      "|    Tuka|  24|       4| 20000|\n",
      "| Mahesh |null|    null| 40000|\n",
      "|    null|  34|      10|  null|\n",
      "|    null|  36|    null|  null|\n",
      "|    Paul|  24|       3| 20000|\n",
      "|  Harsha|  21|       1| 15000|\n",
      "+--------+----+--------+------+\n",
      "\n"
     ]
    }
   ],
   "source": [
    "##threshold\n",
    "df_pyspark.na.drop(how='any',thresh=1).show()"
   ]
  },
  {
   "cell_type": "code",
   "execution_count": 19,
   "id": "b607e97d",
   "metadata": {},
   "outputs": [
    {
     "name": "stdout",
     "output_type": "stream",
     "text": [
      "+--------+----+--------+------+\n",
      "|    Name| Age|exprince|Salary|\n",
      "+--------+----+--------+------+\n",
      "|Shreyas |  31|      10| 30000|\n",
      "|   Aishu|  30|       8| 20000|\n",
      "| Ramesh |  29|       4| 25000|\n",
      "|    Tuka|  24|       4| 20000|\n",
      "| Mahesh |null|    null| 40000|\n",
      "|    Paul|  24|       3| 20000|\n",
      "|  Harsha|  21|       1| 15000|\n",
      "+--------+----+--------+------+\n",
      "\n"
     ]
    }
   ],
   "source": [
    "##Subset\n",
    "df_pyspark.na.drop(how='any',subset=['Salary']).show()"
   ]
  },
  {
   "cell_type": "code",
   "execution_count": 25,
   "id": "ce1ba93a",
   "metadata": {},
   "outputs": [
    {
     "name": "stdout",
     "output_type": "stream",
     "text": [
      "+-------------+----+--------+------+\n",
      "|         Name| Age|exprince|Salary|\n",
      "+-------------+----+--------+------+\n",
      "|     Shreyas |  31|      10| 30000|\n",
      "|        Aishu|  30|       8| 20000|\n",
      "|      Ramesh |  29|       4| 25000|\n",
      "|         Tuka|  24|       4| 20000|\n",
      "|      Mahesh |null|    null| 40000|\n",
      "|Missing Value|  34|      10|  null|\n",
      "|Missing Value|  36|    null|  null|\n",
      "|         Paul|  24|       3| 20000|\n",
      "|       Harsha|  21|       1| 15000|\n",
      "+-------------+----+--------+------+\n",
      "\n"
     ]
    }
   ],
   "source": [
    "##Filling the missing values \n",
    "df_pyspark.na.fill('Missing Value',['Name','Age','exprince','Salary']).show()"
   ]
  },
  {
   "cell_type": "code",
   "execution_count": 26,
   "id": "3ee3677c",
   "metadata": {},
   "outputs": [
    {
     "name": "stdout",
     "output_type": "stream",
     "text": [
      "+--------+----+--------+------+\n",
      "|    Name| Age|exprince|Salary|\n",
      "+--------+----+--------+------+\n",
      "|Shreyas |  31|      10| 30000|\n",
      "|   Aishu|  30|       8| 20000|\n",
      "| Ramesh |  29|       4| 25000|\n",
      "|    Tuka|  24|       4| 20000|\n",
      "| Mahesh |null|    null| 40000|\n",
      "|    null|  34|      10|  null|\n",
      "|    null|  36|    null|  null|\n",
      "|    Paul|  24|       3| 20000|\n",
      "|  Harsha|  21|       1| 15000|\n",
      "+--------+----+--------+------+\n",
      "\n"
     ]
    }
   ],
   "source": [
    "df_pyspark.show()"
   ]
  },
  {
   "cell_type": "code",
   "execution_count": 28,
   "id": "51aa1264",
   "metadata": {},
   "outputs": [],
   "source": [
    "from pyspark.ml.feature import Imputer"
   ]
  },
  {
   "cell_type": "code",
   "execution_count": 35,
   "id": "428a6d90",
   "metadata": {},
   "outputs": [],
   "source": [
    "impiuter = Imputer(inputCols=['Age','exprince','Salary']\n",
    "                   ,outputCols=[\"{}_imputed\".format(c) for c in ['Age','exprince','Salary']]\n",
    "                  ).setStrategy(\"mode\")"
   ]
  },
  {
   "cell_type": "code",
   "execution_count": 36,
   "id": "4fbb4428",
   "metadata": {},
   "outputs": [
    {
     "name": "stdout",
     "output_type": "stream",
     "text": [
      "+--------+----+--------+------+-----------+----------------+--------------+\n",
      "|    Name| Age|exprince|Salary|Age_imputed|exprince_imputed|Salary_imputed|\n",
      "+--------+----+--------+------+-----------+----------------+--------------+\n",
      "|Shreyas |  31|      10| 30000|         31|              10|         30000|\n",
      "|   Aishu|  30|       8| 20000|         30|               8|         20000|\n",
      "| Ramesh |  29|       4| 25000|         29|               4|         25000|\n",
      "|    Tuka|  24|       4| 20000|         24|               4|         20000|\n",
      "| Mahesh |null|    null| 40000|         24|               4|         40000|\n",
      "|    null|  34|      10|  null|         34|              10|         20000|\n",
      "|    null|  36|    null|  null|         36|               4|         20000|\n",
      "|    Paul|  24|       3| 20000|         24|               3|         20000|\n",
      "|  Harsha|  21|       1| 15000|         21|               1|         15000|\n",
      "+--------+----+--------+------+-----------+----------------+--------------+\n",
      "\n"
     ]
    }
   ],
   "source": [
    "##Add Imputation col to df\n",
    "impiuter.fit(df_pyspark).transform(df_pyspark).show()"
   ]
  },
  {
   "cell_type": "code",
   "execution_count": null,
   "id": "6aa6184d",
   "metadata": {},
   "outputs": [],
   "source": []
  },
  {
   "cell_type": "code",
   "execution_count": null,
   "id": "85fcd966",
   "metadata": {},
   "outputs": [],
   "source": []
  }
 ],
 "metadata": {
  "kernelspec": {
   "display_name": "Python 3 (ipykernel)",
   "language": "python",
   "name": "python3"
  },
  "language_info": {
   "codemirror_mode": {
    "name": "ipython",
    "version": 3
   },
   "file_extension": ".py",
   "mimetype": "text/x-python",
   "name": "python",
   "nbconvert_exporter": "python",
   "pygments_lexer": "ipython3",
   "version": "3.9.7"
  }
 },
 "nbformat": 4,
 "nbformat_minor": 5
}
