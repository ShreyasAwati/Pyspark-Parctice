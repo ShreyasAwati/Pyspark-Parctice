{
 "cells": [
  {
   "cell_type": "markdown",
   "id": "9706939a",
   "metadata": {},
   "source": [
    "# Pyspark Data Frame \n",
    "    -Filter Opration \n"
   ]
  },
  {
   "cell_type": "markdown",
   "id": "0337b829",
   "metadata": {},
   "source": [
    "        "
   ]
  },
  {
   "cell_type": "code",
   "execution_count": 1,
   "id": "31e41ac7",
   "metadata": {},
   "outputs": [],
   "source": [
    "from pyspark.sql import SparkSession"
   ]
  },
  {
   "cell_type": "code",
   "execution_count": 4,
   "id": "778c4171",
   "metadata": {},
   "outputs": [],
   "source": [
    "spark= SparkSession.builder.appName('dataframe').getOrCreate()"
   ]
  },
  {
   "cell_type": "code",
   "execution_count": 13,
   "id": "ee4066ec",
   "metadata": {},
   "outputs": [
    {
     "name": "stdout",
     "output_type": "stream",
     "text": [
      "+--------+----+--------+------+\n",
      "|    Name| Age|exprince|Salary|\n",
      "+--------+----+--------+------+\n",
      "|Shreyas |  31|      10| 30000|\n",
      "|   Aishu|  30|       8| 20000|\n",
      "| Ramesh |  29|       4| 25000|\n",
      "|    Tuka|  24|       4| 20000|\n",
      "| Mahesh |null|    null| 40000|\n",
      "|    null|  34|      10|  null|\n",
      "|    null|  36|    null|  null|\n",
      "|    Paul|  24|       3| 20000|\n",
      "|  Harsha|  21|       1| 15000|\n",
      "+--------+----+--------+------+\n",
      "\n"
     ]
    }
   ],
   "source": [
    "df_pyspark = spark.read.csv('TEST2.csv',header=True,inferSchema=True)\n",
    "df_pyspark.show()"
   ]
  },
  {
   "cell_type": "code",
   "execution_count": 15,
   "id": "3eafbcfe",
   "metadata": {},
   "outputs": [],
   "source": [
    "df_pyspark=df_pyspark.na.drop(how = 'any')"
   ]
  },
  {
   "cell_type": "code",
   "execution_count": 16,
   "id": "4e6c01af",
   "metadata": {},
   "outputs": [
    {
     "name": "stdout",
     "output_type": "stream",
     "text": [
      "+--------+---+--------+------+\n",
      "|    Name|Age|exprince|Salary|\n",
      "+--------+---+--------+------+\n",
      "|Shreyas | 31|      10| 30000|\n",
      "|   Aishu| 30|       8| 20000|\n",
      "| Ramesh | 29|       4| 25000|\n",
      "|    Tuka| 24|       4| 20000|\n",
      "|    Paul| 24|       3| 20000|\n",
      "|  Harsha| 21|       1| 15000|\n",
      "+--------+---+--------+------+\n",
      "\n"
     ]
    }
   ],
   "source": [
    "df_pyspark.show()"
   ]
  },
  {
   "cell_type": "markdown",
   "id": "50362b94",
   "metadata": {},
   "source": [
    "# Filter opration "
   ]
  },
  {
   "cell_type": "code",
   "execution_count": 19,
   "id": "ee03247d",
   "metadata": {},
   "outputs": [
    {
     "name": "stdout",
     "output_type": "stream",
     "text": [
      "+--------+---+\n",
      "|    Name|Age|\n",
      "+--------+---+\n",
      "|Shreyas | 31|\n",
      "|   Aishu| 30|\n",
      "| Ramesh | 29|\n",
      "|    Tuka| 24|\n",
      "|    Paul| 24|\n",
      "+--------+---+\n",
      "\n"
     ]
    }
   ],
   "source": [
    "#Salary \n",
    "df_pyspark.filter(\"Salary>=20000\").select(['Name','Age']).show()"
   ]
  },
  {
   "cell_type": "code",
   "execution_count": 20,
   "id": "1df6aee9",
   "metadata": {},
   "outputs": [
    {
     "name": "stdout",
     "output_type": "stream",
     "text": [
      "+------+---+--------+------+\n",
      "|  Name|Age|exprince|Salary|\n",
      "+------+---+--------+------+\n",
      "| Aishu| 30|       8| 20000|\n",
      "|  Tuka| 24|       4| 20000|\n",
      "|  Paul| 24|       3| 20000|\n",
      "|Harsha| 21|       1| 15000|\n",
      "+------+---+--------+------+\n",
      "\n"
     ]
    }
   ],
   "source": [
    "df_pyspark.filter(df_pyspark['Salary']<=20000).show()"
   ]
  },
  {
   "cell_type": "code",
   "execution_count": 23,
   "id": "4e89589b",
   "metadata": {},
   "outputs": [
    {
     "name": "stdout",
     "output_type": "stream",
     "text": [
      "+--------+---+--------+------+\n",
      "|    Name|Age|exprince|Salary|\n",
      "+--------+---+--------+------+\n",
      "|Shreyas | 31|      10| 30000|\n",
      "|   Aishu| 30|       8| 20000|\n",
      "| Ramesh | 29|       4| 25000|\n",
      "|    Tuka| 24|       4| 20000|\n",
      "|    Paul| 24|       3| 20000|\n",
      "|  Harsha| 21|       1| 15000|\n",
      "+--------+---+--------+------+\n",
      "\n"
     ]
    }
   ],
   "source": [
    "##Anding and Or Condition #\n",
    "df_pyspark.filter((df_pyspark['Salary']<=20000) | (df_pyspark['Salary']>=15000)).show()"
   ]
  },
  {
   "cell_type": "code",
   "execution_count": 24,
   "id": "70912659",
   "metadata": {},
   "outputs": [
    {
     "name": "stdout",
     "output_type": "stream",
     "text": [
      "+--------+---+--------+------+\n",
      "|    Name|Age|exprince|Salary|\n",
      "+--------+---+--------+------+\n",
      "|Shreyas | 31|      10| 30000|\n",
      "| Ramesh | 29|       4| 25000|\n",
      "+--------+---+--------+------+\n",
      "\n"
     ]
    }
   ],
   "source": [
    "df_pyspark.filter(~(df_pyspark['Salary']<=20000)).show()"
   ]
  },
  {
   "cell_type": "code",
   "execution_count": null,
   "id": "cbea6cb4",
   "metadata": {},
   "outputs": [],
   "source": []
  }
 ],
 "metadata": {
  "kernelspec": {
   "display_name": "Python 3 (ipykernel)",
   "language": "python",
   "name": "python3"
  },
  "language_info": {
   "codemirror_mode": {
    "name": "ipython",
    "version": 3
   },
   "file_extension": ".py",
   "mimetype": "text/x-python",
   "name": "python",
   "nbconvert_exporter": "python",
   "pygments_lexer": "ipython3",
   "version": "3.9.7"
  }
 },
 "nbformat": 4,
 "nbformat_minor": 5
}
