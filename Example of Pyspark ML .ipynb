{
 "cells": [
  {
   "cell_type": "code",
   "execution_count": 1,
   "id": "0b1946dc",
   "metadata": {},
   "outputs": [],
   "source": [
    "from pyspark.sql import SparkSession\n",
    "spark = SparkSession.builder.appName('Missing').getOrCreate()"
   ]
  },
  {
   "cell_type": "code",
   "execution_count": 2,
   "id": "3a752c31",
   "metadata": {},
   "outputs": [],
   "source": [
    "##Read The Data \n",
    "traning=spark.read.csv('TEST2.csv',header=True,inferSchema=True)"
   ]
  },
  {
   "cell_type": "code",
   "execution_count": 3,
   "id": "ce38eb92",
   "metadata": {},
   "outputs": [
    {
     "name": "stdout",
     "output_type": "stream",
     "text": [
      "+--------+---+--------+------+\n",
      "|    Name|Age|exprince|Salary|\n",
      "+--------+---+--------+------+\n",
      "|Shreyas | 31|      10| 30000|\n",
      "|   Aishu| 30|       8| 20000|\n",
      "| Ramesh | 29|       4| 25000|\n",
      "|    Tuka| 24|       4| 20000|\n",
      "| Mahesh | 34|       6| 40000|\n",
      "| Tukaram| 34|      10| 60000|\n",
      "|    Kaka| 36|       8| 55000|\n",
      "|    Paul| 24|       3| 20000|\n",
      "|  Harsha| 21|       1| 15000|\n",
      "+--------+---+--------+------+\n",
      "\n"
     ]
    }
   ],
   "source": [
    "traning.show()"
   ]
  },
  {
   "cell_type": "code",
   "execution_count": 4,
   "id": "81ec178e",
   "metadata": {},
   "outputs": [
    {
     "name": "stdout",
     "output_type": "stream",
     "text": [
      "root\n",
      " |-- Name: string (nullable = true)\n",
      " |-- Age: integer (nullable = true)\n",
      " |-- exprince: integer (nullable = true)\n",
      " |-- Salary: integer (nullable = true)\n",
      "\n"
     ]
    }
   ],
   "source": [
    "traning.printSchema()"
   ]
  },
  {
   "cell_type": "code",
   "execution_count": 6,
   "id": "27fe53f4",
   "metadata": {},
   "outputs": [
    {
     "data": {
      "text/plain": [
       "['Name', 'Age', 'exprince', 'Salary']"
      ]
     },
     "execution_count": 6,
     "metadata": {},
     "output_type": "execute_result"
    }
   ],
   "source": [
    "traning.columns"
   ]
  },
  {
   "cell_type": "code",
   "execution_count": 7,
   "id": "5f855d02",
   "metadata": {},
   "outputs": [],
   "source": [
    "from pyspark.ml.feature import VectorAssembler\n",
    "featureassembler= VectorAssembler(inputCols=[\"Age\",\"exprince\"],outputCol=\"Independent Features\")"
   ]
  },
  {
   "cell_type": "code",
   "execution_count": 8,
   "id": "9bc30225",
   "metadata": {},
   "outputs": [
    {
     "name": "stdout",
     "output_type": "stream",
     "text": [
      "+--------+---+--------+------+--------------------+\n",
      "|    Name|Age|exprince|Salary|Independent Features|\n",
      "+--------+---+--------+------+--------------------+\n",
      "|Shreyas | 31|      10| 30000|         [31.0,10.0]|\n",
      "|   Aishu| 30|       8| 20000|          [30.0,8.0]|\n",
      "| Ramesh | 29|       4| 25000|          [29.0,4.0]|\n",
      "|    Tuka| 24|       4| 20000|          [24.0,4.0]|\n",
      "| Mahesh | 34|       6| 40000|          [34.0,6.0]|\n",
      "| Tukaram| 34|      10| 60000|         [34.0,10.0]|\n",
      "|    Kaka| 36|       8| 55000|          [36.0,8.0]|\n",
      "|    Paul| 24|       3| 20000|          [24.0,3.0]|\n",
      "|  Harsha| 21|       1| 15000|          [21.0,1.0]|\n",
      "+--------+---+--------+------+--------------------+\n",
      "\n"
     ]
    }
   ],
   "source": [
    "output = featureassembler.transform(traning)\n",
    "output.show()"
   ]
  },
  {
   "cell_type": "code",
   "execution_count": 10,
   "id": "f8987e2e",
   "metadata": {},
   "outputs": [
    {
     "data": {
      "text/plain": [
       "['Name', 'Age', 'exprince', 'Salary', 'Independent Features']"
      ]
     },
     "execution_count": 10,
     "metadata": {},
     "output_type": "execute_result"
    }
   ],
   "source": [
    "output.columns"
   ]
  },
  {
   "cell_type": "code",
   "execution_count": 11,
   "id": "aaef3b74",
   "metadata": {},
   "outputs": [],
   "source": [
    "    finalized_data = output.select(\"Independent Features\",\"Salary\")"
   ]
  },
  {
   "cell_type": "code",
   "execution_count": 12,
   "id": "67508681",
   "metadata": {},
   "outputs": [
    {
     "name": "stdout",
     "output_type": "stream",
     "text": [
      "+--------------------+------+\n",
      "|Independent Features|Salary|\n",
      "+--------------------+------+\n",
      "|         [31.0,10.0]| 30000|\n",
      "|          [30.0,8.0]| 20000|\n",
      "|          [29.0,4.0]| 25000|\n",
      "|          [24.0,4.0]| 20000|\n",
      "|          [34.0,6.0]| 40000|\n",
      "|         [34.0,10.0]| 60000|\n",
      "|          [36.0,8.0]| 55000|\n",
      "|          [24.0,3.0]| 20000|\n",
      "|          [21.0,1.0]| 15000|\n",
      "+--------------------+------+\n",
      "\n"
     ]
    }
   ],
   "source": [
    "finalized_data.show()"
   ]
  },
  {
   "cell_type": "code",
   "execution_count": 14,
   "id": "694e137b",
   "metadata": {},
   "outputs": [],
   "source": [
    "from pyspark.ml.regression import LinearRegression\n",
    "##train test Spilt \n",
    "train_data,test_data =finalized_data.randomSplit([0.75,0.25])\n",
    "regressor = LinearRegression(featuresCol = 'Independent Features',labelCol = 'Salary')\n",
    "regressor = regressor.fit(train_data)"
   ]
  },
  {
   "cell_type": "code",
   "execution_count": 15,
   "id": "acbeea39",
   "metadata": {},
   "outputs": [
    {
     "data": {
      "text/plain": [
       "DenseVector([2179.5487, 818.531])"
      ]
     },
     "execution_count": 15,
     "metadata": {},
     "output_type": "execute_result"
    }
   ],
   "source": [
    "##Regressore Coeffcients\n",
    "regressor.coefficients"
   ]
  },
  {
   "cell_type": "code",
   "execution_count": 16,
   "id": "61d5069e",
   "metadata": {},
   "outputs": [
    {
     "data": {
      "text/plain": [
       "-36082.57321171403"
      ]
     },
     "execution_count": 16,
     "metadata": {},
     "output_type": "execute_result"
    }
   ],
   "source": [
    "##Reressor Intercept \n",
    "regressor.intercept"
   ]
  },
  {
   "cell_type": "code",
   "execution_count": 17,
   "id": "89c6d2e5",
   "metadata": {},
   "outputs": [],
   "source": [
    "##Predictions \n",
    "pred_result = regressor.evaluate(test_data)"
   ]
  },
  {
   "cell_type": "code",
   "execution_count": 18,
   "id": "59807459",
   "metadata": {},
   "outputs": [
    {
     "name": "stderr",
     "output_type": "stream",
     "text": [
      "C:\\Users\\shreyas.awati\\anaconda3\\lib\\site-packages\\pyspark\\sql\\context.py:125: FutureWarning: Deprecated in 3.0.0. Use SparkSession.builder.getOrCreate() instead.\n",
      "  warnings.warn(\n"
     ]
    },
    {
     "name": "stdout",
     "output_type": "stream",
     "text": [
      "+--------------------+------+------------------+\n",
      "|Independent Features|Salary|        prediction|\n",
      "+--------------------+------+------------------+\n",
      "|          [24.0,3.0]| 20000|18682.189150264036|\n",
      "|          [29.0,4.0]| 25000|30398.463754200697|\n",
      "|         [31.0,10.0]| 30000| 39668.74699951992|\n",
      "|          [36.0,8.0]| 55000| 48929.42870859342|\n",
      "+--------------------+------+------------------+\n",
      "\n"
     ]
    }
   ],
   "source": [
    "pred_result.predictions.show()"
   ]
  },
  {
   "cell_type": "code",
   "execution_count": 19,
   "id": "3215c8f6",
   "metadata": {},
   "outputs": [
    {
     "data": {
      "text/plain": [
       "(5613.898223715791, 40304135.17146893)"
      ]
     },
     "execution_count": 19,
     "metadata": {},
     "output_type": "execute_result"
    }
   ],
   "source": [
    "pred_result.meanAbsoluteError,pred_result.meanSquaredError"
   ]
  },
  {
   "cell_type": "code",
   "execution_count": null,
   "id": "94f9279e",
   "metadata": {},
   "outputs": [],
   "source": []
  }
 ],
 "metadata": {
  "kernelspec": {
   "display_name": "Python 3 (ipykernel)",
   "language": "python",
   "name": "python3"
  },
  "language_info": {
   "codemirror_mode": {
    "name": "ipython",
    "version": 3
   },
   "file_extension": ".py",
   "mimetype": "text/x-python",
   "name": "python",
   "nbconvert_exporter": "python",
   "pygments_lexer": "ipython3",
   "version": "3.9.7"
  }
 },
 "nbformat": 4,
 "nbformat_minor": 5
}
