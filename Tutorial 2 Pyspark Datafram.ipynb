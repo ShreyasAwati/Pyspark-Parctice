{
 "cells": [
  {
   "cell_type": "markdown",
   "id": "2de03a89",
   "metadata": {},
   "source": [
    "# Tutorial 2 Pyspark Datafram"
   ]
  },
  {
   "cell_type": "code",
   "execution_count": 38,
   "id": "2cf1fdf2",
   "metadata": {},
   "outputs": [],
   "source": [
    "from pyspark.sql import SparkSession"
   ]
  },
  {
   "cell_type": "code",
   "execution_count": 39,
   "id": "586204c5",
   "metadata": {},
   "outputs": [],
   "source": [
    "spark = SparkSession.builder.appName('Dataframe').getOrCreate()"
   ]
  },
  {
   "cell_type": "code",
   "execution_count": 40,
   "id": "f00ca8fe",
   "metadata": {},
   "outputs": [
    {
     "data": {
      "text/html": [
       "\n",
       "            <div>\n",
       "                <p><b>SparkSession - in-memory</b></p>\n",
       "                \n",
       "        <div>\n",
       "            <p><b>SparkContext</b></p>\n",
       "\n",
       "            <p><a href=\"http://RILTP-2090.mshome.net:4041\">Spark UI</a></p>\n",
       "\n",
       "            <dl>\n",
       "              <dt>Version</dt>\n",
       "                <dd><code>v3.2.1</code></dd>\n",
       "              <dt>Master</dt>\n",
       "                <dd><code>local[*]</code></dd>\n",
       "              <dt>AppName</dt>\n",
       "                <dd><code>Dataframe</code></dd>\n",
       "            </dl>\n",
       "        </div>\n",
       "        \n",
       "            </div>\n",
       "        "
      ],
      "text/plain": [
       "<pyspark.sql.session.SparkSession at 0x10acfdf2bb0>"
      ]
     },
     "execution_count": 40,
     "metadata": {},
     "output_type": "execute_result"
    }
   ],
   "source": [
    "spark"
   ]
  },
  {
   "cell_type": "code",
   "execution_count": 41,
   "id": "cd08836e",
   "metadata": {},
   "outputs": [],
   "source": [
    "##Read Data Set \n",
    "df_pyspark = spark.read.option('header','true').csv('TEST1.csv',inferSchema=True)"
   ]
  },
  {
   "cell_type": "code",
   "execution_count": 42,
   "id": "12cff125",
   "metadata": {},
   "outputs": [
    {
     "name": "stdout",
     "output_type": "stream",
     "text": [
      "root\n",
      " |-- Name: string (nullable = true)\n",
      " |-- Age: integer (nullable = true)\n",
      " |-- exprince: integer (nullable = true)\n",
      "\n"
     ]
    }
   ],
   "source": [
    "##Check the Schema \n",
    "df_pyspark.printSchema()"
   ]
  },
  {
   "cell_type": "code",
   "execution_count": 43,
   "id": "bc998d4c",
   "metadata": {},
   "outputs": [
    {
     "name": "stdout",
     "output_type": "stream",
     "text": [
      "+--------+---+--------+\n",
      "|    Name|Age|exprince|\n",
      "+--------+---+--------+\n",
      "|Shreyas | 31|      10|\n",
      "|   Aishu| 30|       8|\n",
      "| Ramesh | 29|       4|\n",
      "+--------+---+--------+\n",
      "\n"
     ]
    }
   ],
   "source": [
    "df_pyspark = spark.read.csv('TEST1.csv',header=True,inferSchema=True)\n",
    "df_pyspark.show()"
   ]
  },
  {
   "cell_type": "code",
   "execution_count": 44,
   "id": "f0b286ad",
   "metadata": {},
   "outputs": [
    {
     "name": "stdout",
     "output_type": "stream",
     "text": [
      "root\n",
      " |-- Name: string (nullable = true)\n",
      " |-- Age: integer (nullable = true)\n",
      " |-- exprince: integer (nullable = true)\n",
      "\n"
     ]
    }
   ],
   "source": [
    "##Check the Schema \n",
    "df_pyspark.printSchema()"
   ]
  },
  {
   "cell_type": "code",
   "execution_count": 45,
   "id": "6e1ecc85",
   "metadata": {},
   "outputs": [
    {
     "data": {
      "text/plain": [
       "pyspark.sql.dataframe.DataFrame"
      ]
     },
     "execution_count": 45,
     "metadata": {},
     "output_type": "execute_result"
    }
   ],
   "source": [
    "type(df_pyspark)"
   ]
  },
  {
   "cell_type": "code",
   "execution_count": 46,
   "id": "476532be",
   "metadata": {},
   "outputs": [
    {
     "data": {
      "text/plain": [
       "['Name', 'Age', 'exprince']"
      ]
     },
     "execution_count": 46,
     "metadata": {},
     "output_type": "execute_result"
    }
   ],
   "source": [
    "df_pyspark.columns"
   ]
  },
  {
   "cell_type": "code",
   "execution_count": 47,
   "id": "9692f86e",
   "metadata": {},
   "outputs": [
    {
     "data": {
      "text/plain": [
       "[Row(Name='Shreyas ', Age=31, exprince=10),\n",
       " Row(Name='Aishu', Age=30, exprince=8),\n",
       " Row(Name='Ramesh ', Age=29, exprince=4)]"
      ]
     },
     "execution_count": 47,
     "metadata": {},
     "output_type": "execute_result"
    }
   ],
   "source": [
    "df_pyspark.head(3)"
   ]
  },
  {
   "cell_type": "code",
   "execution_count": 48,
   "id": "be37ec96",
   "metadata": {},
   "outputs": [
    {
     "name": "stdout",
     "output_type": "stream",
     "text": [
      "+--------+---+--------+\n",
      "|    Name|Age|exprince|\n",
      "+--------+---+--------+\n",
      "|Shreyas | 31|      10|\n",
      "|   Aishu| 30|       8|\n",
      "| Ramesh | 29|       4|\n",
      "+--------+---+--------+\n",
      "\n"
     ]
    }
   ],
   "source": [
    "df_pyspark.show()"
   ]
  },
  {
   "cell_type": "code",
   "execution_count": 56,
   "id": "d13582d9",
   "metadata": {},
   "outputs": [
    {
     "name": "stdout",
     "output_type": "stream",
     "text": [
      "+--------+--------+\n",
      "|    Name|exprince|\n",
      "+--------+--------+\n",
      "|Shreyas |      10|\n",
      "|   Aishu|       8|\n",
      "| Ramesh |       4|\n",
      "+--------+--------+\n",
      "\n"
     ]
    }
   ],
   "source": [
    "##select used to view the colun name with data \n",
    "df_pyspark.select('Name','exprince').show()"
   ]
  },
  {
   "cell_type": "code",
   "execution_count": 57,
   "id": "ec2e13b5",
   "metadata": {},
   "outputs": [
    {
     "data": {
      "text/plain": [
       "Column<'Name'>"
      ]
     },
     "execution_count": 57,
     "metadata": {},
     "output_type": "execute_result"
    }
   ],
   "source": [
    "df_pyspark['Name']"
   ]
  },
  {
   "cell_type": "code",
   "execution_count": 58,
   "id": "5c30e6c6",
   "metadata": {},
   "outputs": [
    {
     "data": {
      "text/plain": [
       "[('Name', 'string'), ('Age', 'int'), ('exprince', 'int')]"
      ]
     },
     "execution_count": 58,
     "metadata": {},
     "output_type": "execute_result"
    }
   ],
   "source": [
    "df_pyspark.dtypes"
   ]
  },
  {
   "cell_type": "code",
   "execution_count": 60,
   "id": "c28874e7",
   "metadata": {},
   "outputs": [
    {
     "name": "stdout",
     "output_type": "stream",
     "text": [
      "+-------+--------+----+-----------------+\n",
      "|summary|    Name| Age|         exprince|\n",
      "+-------+--------+----+-----------------+\n",
      "|  count|       3|   3|                3|\n",
      "|   mean|    null|30.0|7.333333333333333|\n",
      "| stddev|    null| 1.0|3.055050463303893|\n",
      "|    min|   Aishu|  29|                4|\n",
      "|    max|Shreyas |  31|               10|\n",
      "+-------+--------+----+-----------------+\n",
      "\n"
     ]
    }
   ],
   "source": [
    "df_pyspark.describe().show()"
   ]
  },
  {
   "cell_type": "code",
   "execution_count": 64,
   "id": "f80cff37",
   "metadata": {},
   "outputs": [],
   "source": [
    "##adding columns in DF\n",
    "\n",
    "df_pyspark =df_pyspark.withColumn('expreince after 2 years',df_pyspark['exprince']+2)\n",
    "##df_pyspark.withColumn('expreince after 2 years',df_pyspark['exprince']+df_pyspark['Age']).show()"
   ]
  },
  {
   "cell_type": "code",
   "execution_count": 65,
   "id": "fb6ff090",
   "metadata": {},
   "outputs": [
    {
     "name": "stdout",
     "output_type": "stream",
     "text": [
      "+--------+---+--------+-----------------------+\n",
      "|    Name|Age|exprince|expreince after 2 years|\n",
      "+--------+---+--------+-----------------------+\n",
      "|Shreyas | 31|      10|                     12|\n",
      "|   Aishu| 30|       8|                     10|\n",
      "| Ramesh | 29|       4|                      6|\n",
      "+--------+---+--------+-----------------------+\n",
      "\n"
     ]
    }
   ],
   "source": [
    "df_pyspark.show()"
   ]
  },
  {
   "cell_type": "code",
   "execution_count": 69,
   "id": "b5ec724b",
   "metadata": {},
   "outputs": [
    {
     "name": "stdout",
     "output_type": "stream",
     "text": [
      "+--------+---+--------+\n",
      "|    Name|Age|exprince|\n",
      "+--------+---+--------+\n",
      "|Shreyas | 31|      10|\n",
      "|   Aishu| 30|       8|\n",
      "| Ramesh | 29|       4|\n",
      "+--------+---+--------+\n",
      "\n"
     ]
    }
   ],
   "source": [
    "##Droping the Column \n",
    "df_pyspark=df_pyspark.drop('expreince after 2 years')\n",
    "df_pyspark.show()"
   ]
  },
  {
   "cell_type": "code",
   "execution_count": 70,
   "id": "740b0d4e",
   "metadata": {},
   "outputs": [
    {
     "name": "stdout",
     "output_type": "stream",
     "text": [
      "+--------+---+--------+\n",
      "|New Name|Age|exprince|\n",
      "+--------+---+--------+\n",
      "|Shreyas | 31|      10|\n",
      "|   Aishu| 30|       8|\n",
      "| Ramesh | 29|       4|\n",
      "+--------+---+--------+\n",
      "\n"
     ]
    }
   ],
   "source": [
    "##Rename the column \n",
    "df_pyspark.withColumnRenamed('Name','New Name').show()"
   ]
  },
  {
   "cell_type": "code",
   "execution_count": null,
   "id": "b3341f15",
   "metadata": {},
   "outputs": [],
   "source": []
  }
 ],
 "metadata": {
  "kernelspec": {
   "display_name": "Python 3 (ipykernel)",
   "language": "python",
   "name": "python3"
  },
  "language_info": {
   "codemirror_mode": {
    "name": "ipython",
    "version": 3
   },
   "file_extension": ".py",
   "mimetype": "text/x-python",
   "name": "python",
   "nbconvert_exporter": "python",
   "pygments_lexer": "ipython3",
   "version": "3.9.7"
  }
 },
 "nbformat": 4,
 "nbformat_minor": 5
}
